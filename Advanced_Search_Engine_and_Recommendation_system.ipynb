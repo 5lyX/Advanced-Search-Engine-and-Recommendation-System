{
  "nbformat": 4,
  "nbformat_minor": 0,
  "metadata": {
    "colab": {
      "provenance": [],
      "mount_file_id": "1FcH3s_eYQBL6heytoi4s41l5lKHmOSMq",
      "authorship_tag": "ABX9TyNbV5MoUOUMiQp5ZfP+Z9Nn"
    },
    "kernelspec": {
      "name": "python3",
      "display_name": "Python 3"
    },
    "language_info": {
      "name": "python"
    }
  },
  "cells": [
    {
      "cell_type": "markdown",
      "source": [
        "###Exploratory Data Analysis"
      ],
      "metadata": {
        "id": "x073Im2PwC2E"
      }
    },
    {
      "cell_type": "code",
      "source": [
        "from google.colab import drive\n",
        "drive.mount('/content/drive')"
      ],
      "metadata": {
        "colab": {
          "base_uri": "https://localhost:8080/"
        },
        "id": "6_O7BoL4cWO8",
        "outputId": "6fc265e0-bba6-4035-c99c-fcd9258c24db"
      },
      "execution_count": null,
      "outputs": [
        {
          "output_type": "stream",
          "name": "stdout",
          "text": [
            "Drive already mounted at /content/drive; to attempt to forcibly remount, call drive.mount(\"/content/drive\", force_remount=True).\n"
          ]
        }
      ]
    },
    {
      "cell_type": "code",
      "execution_count": null,
      "metadata": {
        "id": "6haY9STdqaTB"
      },
      "outputs": [],
      "source": [
        "#Data Manipulation\n",
        "import pandas as pd\n",
        "import numpy as np"
      ]
    },
    {
      "cell_type": "code",
      "source": [
        "#Visualisation\n",
        "import matplotlib.pyplot as plt\n",
        "import seaborn as sns"
      ],
      "metadata": {
        "id": "RAUxG3I6qnHM"
      },
      "execution_count": null,
      "outputs": []
    },
    {
      "cell_type": "code",
      "source": [
        "#NLP for text-processing\n",
        "import nltk\n",
        "import scipy\n",
        "import re\n",
        "from scipy import spatial \n",
        "from nltk.tokenize.toktok import ToktokTokenizer\n",
        "from nltk.corpus import stopwords\n",
        "from nltk.tokenize import sent_tokenize, word_tokenize\n",
        "from nltk.stem import PorterStemmer\n",
        "tokenizer = ToktokTokenizer()"
      ],
      "metadata": {
        "id": "Ykp_1E6Mqw7r"
      },
      "execution_count": null,
      "outputs": []
    },
    {
      "cell_type": "code",
      "source": [
        "# other libraries\n",
        "import gensim\n",
        "from gensim.models import Word2Vec\n",
        "import itertools\n",
        "from sklearn.feature_extraction.text import TfidfVectorizer\n",
        "from sklearn.decomposition import PCA"
      ],
      "metadata": {
        "id": "XLYr4TpwruFK"
      },
      "execution_count": null,
      "outputs": []
    },
    {
      "cell_type": "code",
      "source": [
        "#import linear_kernel\n",
        "from sklearn.metrics.pairwise import linear_kernel"
      ],
      "metadata": {
        "id": "JVEJzURPsQ_B"
      },
      "execution_count": null,
      "outputs": []
    },
    {
      "cell_type": "code",
      "source": [
        "#Remove Warnings\n",
        "import warnings\n",
        "warnings.filterwarnings(action = 'ignore')"
      ],
      "metadata": {
        "id": "VmOYExQDs6sj"
      },
      "execution_count": null,
      "outputs": []
    },
    {
      "cell_type": "code",
      "source": [
        "data = pd.read_csv(\"/content/drive/MyDrive/Recommender_system/flipkart_ecommerce.csv\")\n",
        "data.head()"
      ],
      "metadata": {
        "colab": {
          "base_uri": "https://localhost:8080/",
          "height": 531
        },
        "id": "FHQtUDpFtEQo",
        "outputId": "516a9d35-dd32-46ff-87a7-64703541864d"
      },
      "execution_count": null,
      "outputs": [
        {
          "output_type": "execute_result",
          "data": {
            "text/plain": [
              "                            uniq_id            crawl_timestamp  \\\n",
              "0  c2d766ca982eca8304150849735ffef9  2016-03-25 22:59:23 +0000   \n",
              "1  7f7036a6d550aaa89d34c77bd39a5e48  2016-03-25 22:59:23 +0000   \n",
              "2  f449ec65dcbc041b6ae5e6a32717d01b  2016-03-25 22:59:23 +0000   \n",
              "3  0973b37acd0c664e3de26e97e5571454  2016-03-25 22:59:23 +0000   \n",
              "4  bc940ea42ee6bef5ac7cea3fb5cfbee7  2016-03-25 22:59:23 +0000   \n",
              "\n",
              "                                         product_url  \\\n",
              "0  http://www.flipkart.com/alisha-solid-women-s-c...   \n",
              "1  http://www.flipkart.com/fabhomedecor-fabric-do...   \n",
              "2  http://www.flipkart.com/aw-bellies/p/itmeh4grg...   \n",
              "3  http://www.flipkart.com/alisha-solid-women-s-c...   \n",
              "4  http://www.flipkart.com/sicons-all-purpose-arn...   \n",
              "\n",
              "                            product_name  \\\n",
              "0    Alisha Solid Women's Cycling Shorts   \n",
              "1    FabHomeDecor Fabric Double Sofa Bed   \n",
              "2                             AW Bellies   \n",
              "3    Alisha Solid Women's Cycling Shorts   \n",
              "4  Sicons All Purpose Arnica Dog Shampoo   \n",
              "\n",
              "                               product_category_tree               pid  \\\n",
              "0  [\"Clothing >> Women's Clothing >> Lingerie, Sl...  SRTEH2FF9KEDEFGF   \n",
              "1  [\"Furniture >> Living Room Furniture >> Sofa B...  SBEEH3QGU7MFYJFY   \n",
              "2  [\"Footwear >> Women's Footwear >> Ballerinas >...  SHOEH4GRSUBJGZXE   \n",
              "3  [\"Clothing >> Women's Clothing >> Lingerie, Sl...  SRTEH2F6HUZMQ6SJ   \n",
              "4  [\"Pet Supplies >> Grooming >> Skin & Coat Care...  PSOEH3ZYDMSYARJ5   \n",
              "\n",
              "   retail_price  discounted_price  \\\n",
              "0         999.0             379.0   \n",
              "1       32157.0           22646.0   \n",
              "2         999.0             499.0   \n",
              "3         699.0             267.0   \n",
              "4         220.0             210.0   \n",
              "\n",
              "                                               image  is_FK_Advantage_product  \\\n",
              "0  [\"http://img5a.flixcart.com/image/short/u/4/a/...                    False   \n",
              "1  [\"http://img6a.flixcart.com/image/sofa-bed/j/f...                    False   \n",
              "2  [\"http://img5a.flixcart.com/image/shoe/7/z/z/r...                    False   \n",
              "3  [\"http://img5a.flixcart.com/image/short/6/2/h/...                    False   \n",
              "4  [\"http://img5a.flixcart.com/image/pet-shampoo/...                    False   \n",
              "\n",
              "                                         description       product_rating  \\\n",
              "0  Key Features of Alisha Solid Women's Cycling S...  No rating available   \n",
              "1  FabHomeDecor Fabric Double Sofa Bed (Finish Co...  No rating available   \n",
              "2  Key Features of AW Bellies Sandals Wedges Heel...  No rating available   \n",
              "3  Key Features of Alisha Solid Women's Cycling S...  No rating available   \n",
              "4  Specifications of Sicons All Purpose Arnica Do...  No rating available   \n",
              "\n",
              "        overall_rating         brand  \\\n",
              "0  No rating available        Alisha   \n",
              "1  No rating available  FabHomeDecor   \n",
              "2  No rating available            AW   \n",
              "3  No rating available        Alisha   \n",
              "4  No rating available        Sicons   \n",
              "\n",
              "                              product_specifications  \n",
              "0  {\"product_specification\"=>[{\"key\"=>\"Number of ...  \n",
              "1  {\"product_specification\"=>[{\"key\"=>\"Installati...  \n",
              "2  {\"product_specification\"=>[{\"key\"=>\"Ideal For\"...  \n",
              "3  {\"product_specification\"=>[{\"key\"=>\"Number of ...  \n",
              "4  {\"product_specification\"=>[{\"key\"=>\"Pet Type\",...  "
            ],
            "text/html": [
              "\n",
              "  <div id=\"df-7d296aa0-7aad-468b-9827-d25e6edb3e98\">\n",
              "    <div class=\"colab-df-container\">\n",
              "      <div>\n",
              "<style scoped>\n",
              "    .dataframe tbody tr th:only-of-type {\n",
              "        vertical-align: middle;\n",
              "    }\n",
              "\n",
              "    .dataframe tbody tr th {\n",
              "        vertical-align: top;\n",
              "    }\n",
              "\n",
              "    .dataframe thead th {\n",
              "        text-align: right;\n",
              "    }\n",
              "</style>\n",
              "<table border=\"1\" class=\"dataframe\">\n",
              "  <thead>\n",
              "    <tr style=\"text-align: right;\">\n",
              "      <th></th>\n",
              "      <th>uniq_id</th>\n",
              "      <th>crawl_timestamp</th>\n",
              "      <th>product_url</th>\n",
              "      <th>product_name</th>\n",
              "      <th>product_category_tree</th>\n",
              "      <th>pid</th>\n",
              "      <th>retail_price</th>\n",
              "      <th>discounted_price</th>\n",
              "      <th>image</th>\n",
              "      <th>is_FK_Advantage_product</th>\n",
              "      <th>description</th>\n",
              "      <th>product_rating</th>\n",
              "      <th>overall_rating</th>\n",
              "      <th>brand</th>\n",
              "      <th>product_specifications</th>\n",
              "    </tr>\n",
              "  </thead>\n",
              "  <tbody>\n",
              "    <tr>\n",
              "      <th>0</th>\n",
              "      <td>c2d766ca982eca8304150849735ffef9</td>\n",
              "      <td>2016-03-25 22:59:23 +0000</td>\n",
              "      <td>http://www.flipkart.com/alisha-solid-women-s-c...</td>\n",
              "      <td>Alisha Solid Women's Cycling Shorts</td>\n",
              "      <td>[\"Clothing &gt;&gt; Women's Clothing &gt;&gt; Lingerie, Sl...</td>\n",
              "      <td>SRTEH2FF9KEDEFGF</td>\n",
              "      <td>999.0</td>\n",
              "      <td>379.0</td>\n",
              "      <td>[\"http://img5a.flixcart.com/image/short/u/4/a/...</td>\n",
              "      <td>False</td>\n",
              "      <td>Key Features of Alisha Solid Women's Cycling S...</td>\n",
              "      <td>No rating available</td>\n",
              "      <td>No rating available</td>\n",
              "      <td>Alisha</td>\n",
              "      <td>{\"product_specification\"=&gt;[{\"key\"=&gt;\"Number of ...</td>\n",
              "    </tr>\n",
              "    <tr>\n",
              "      <th>1</th>\n",
              "      <td>7f7036a6d550aaa89d34c77bd39a5e48</td>\n",
              "      <td>2016-03-25 22:59:23 +0000</td>\n",
              "      <td>http://www.flipkart.com/fabhomedecor-fabric-do...</td>\n",
              "      <td>FabHomeDecor Fabric Double Sofa Bed</td>\n",
              "      <td>[\"Furniture &gt;&gt; Living Room Furniture &gt;&gt; Sofa B...</td>\n",
              "      <td>SBEEH3QGU7MFYJFY</td>\n",
              "      <td>32157.0</td>\n",
              "      <td>22646.0</td>\n",
              "      <td>[\"http://img6a.flixcart.com/image/sofa-bed/j/f...</td>\n",
              "      <td>False</td>\n",
              "      <td>FabHomeDecor Fabric Double Sofa Bed (Finish Co...</td>\n",
              "      <td>No rating available</td>\n",
              "      <td>No rating available</td>\n",
              "      <td>FabHomeDecor</td>\n",
              "      <td>{\"product_specification\"=&gt;[{\"key\"=&gt;\"Installati...</td>\n",
              "    </tr>\n",
              "    <tr>\n",
              "      <th>2</th>\n",
              "      <td>f449ec65dcbc041b6ae5e6a32717d01b</td>\n",
              "      <td>2016-03-25 22:59:23 +0000</td>\n",
              "      <td>http://www.flipkart.com/aw-bellies/p/itmeh4grg...</td>\n",
              "      <td>AW Bellies</td>\n",
              "      <td>[\"Footwear &gt;&gt; Women's Footwear &gt;&gt; Ballerinas &gt;...</td>\n",
              "      <td>SHOEH4GRSUBJGZXE</td>\n",
              "      <td>999.0</td>\n",
              "      <td>499.0</td>\n",
              "      <td>[\"http://img5a.flixcart.com/image/shoe/7/z/z/r...</td>\n",
              "      <td>False</td>\n",
              "      <td>Key Features of AW Bellies Sandals Wedges Heel...</td>\n",
              "      <td>No rating available</td>\n",
              "      <td>No rating available</td>\n",
              "      <td>AW</td>\n",
              "      <td>{\"product_specification\"=&gt;[{\"key\"=&gt;\"Ideal For\"...</td>\n",
              "    </tr>\n",
              "    <tr>\n",
              "      <th>3</th>\n",
              "      <td>0973b37acd0c664e3de26e97e5571454</td>\n",
              "      <td>2016-03-25 22:59:23 +0000</td>\n",
              "      <td>http://www.flipkart.com/alisha-solid-women-s-c...</td>\n",
              "      <td>Alisha Solid Women's Cycling Shorts</td>\n",
              "      <td>[\"Clothing &gt;&gt; Women's Clothing &gt;&gt; Lingerie, Sl...</td>\n",
              "      <td>SRTEH2F6HUZMQ6SJ</td>\n",
              "      <td>699.0</td>\n",
              "      <td>267.0</td>\n",
              "      <td>[\"http://img5a.flixcart.com/image/short/6/2/h/...</td>\n",
              "      <td>False</td>\n",
              "      <td>Key Features of Alisha Solid Women's Cycling S...</td>\n",
              "      <td>No rating available</td>\n",
              "      <td>No rating available</td>\n",
              "      <td>Alisha</td>\n",
              "      <td>{\"product_specification\"=&gt;[{\"key\"=&gt;\"Number of ...</td>\n",
              "    </tr>\n",
              "    <tr>\n",
              "      <th>4</th>\n",
              "      <td>bc940ea42ee6bef5ac7cea3fb5cfbee7</td>\n",
              "      <td>2016-03-25 22:59:23 +0000</td>\n",
              "      <td>http://www.flipkart.com/sicons-all-purpose-arn...</td>\n",
              "      <td>Sicons All Purpose Arnica Dog Shampoo</td>\n",
              "      <td>[\"Pet Supplies &gt;&gt; Grooming &gt;&gt; Skin &amp; Coat Care...</td>\n",
              "      <td>PSOEH3ZYDMSYARJ5</td>\n",
              "      <td>220.0</td>\n",
              "      <td>210.0</td>\n",
              "      <td>[\"http://img5a.flixcart.com/image/pet-shampoo/...</td>\n",
              "      <td>False</td>\n",
              "      <td>Specifications of Sicons All Purpose Arnica Do...</td>\n",
              "      <td>No rating available</td>\n",
              "      <td>No rating available</td>\n",
              "      <td>Sicons</td>\n",
              "      <td>{\"product_specification\"=&gt;[{\"key\"=&gt;\"Pet Type\",...</td>\n",
              "    </tr>\n",
              "  </tbody>\n",
              "</table>\n",
              "</div>\n",
              "      <button class=\"colab-df-convert\" onclick=\"convertToInteractive('df-7d296aa0-7aad-468b-9827-d25e6edb3e98')\"\n",
              "              title=\"Convert this dataframe to an interactive table.\"\n",
              "              style=\"display:none;\">\n",
              "        \n",
              "  <svg xmlns=\"http://www.w3.org/2000/svg\" height=\"24px\"viewBox=\"0 0 24 24\"\n",
              "       width=\"24px\">\n",
              "    <path d=\"M0 0h24v24H0V0z\" fill=\"none\"/>\n",
              "    <path d=\"M18.56 5.44l.94 2.06.94-2.06 2.06-.94-2.06-.94-.94-2.06-.94 2.06-2.06.94zm-11 1L8.5 8.5l.94-2.06 2.06-.94-2.06-.94L8.5 2.5l-.94 2.06-2.06.94zm10 10l.94 2.06.94-2.06 2.06-.94-2.06-.94-.94-2.06-.94 2.06-2.06.94z\"/><path d=\"M17.41 7.96l-1.37-1.37c-.4-.4-.92-.59-1.43-.59-.52 0-1.04.2-1.43.59L10.3 9.45l-7.72 7.72c-.78.78-.78 2.05 0 2.83L4 21.41c.39.39.9.59 1.41.59.51 0 1.02-.2 1.41-.59l7.78-7.78 2.81-2.81c.8-.78.8-2.07 0-2.86zM5.41 20L4 18.59l7.72-7.72 1.47 1.35L5.41 20z\"/>\n",
              "  </svg>\n",
              "      </button>\n",
              "      \n",
              "  <style>\n",
              "    .colab-df-container {\n",
              "      display:flex;\n",
              "      flex-wrap:wrap;\n",
              "      gap: 12px;\n",
              "    }\n",
              "\n",
              "    .colab-df-convert {\n",
              "      background-color: #E8F0FE;\n",
              "      border: none;\n",
              "      border-radius: 50%;\n",
              "      cursor: pointer;\n",
              "      display: none;\n",
              "      fill: #1967D2;\n",
              "      height: 32px;\n",
              "      padding: 0 0 0 0;\n",
              "      width: 32px;\n",
              "    }\n",
              "\n",
              "    .colab-df-convert:hover {\n",
              "      background-color: #E2EBFA;\n",
              "      box-shadow: 0px 1px 2px rgba(60, 64, 67, 0.3), 0px 1px 3px 1px rgba(60, 64, 67, 0.15);\n",
              "      fill: #174EA6;\n",
              "    }\n",
              "\n",
              "    [theme=dark] .colab-df-convert {\n",
              "      background-color: #3B4455;\n",
              "      fill: #D2E3FC;\n",
              "    }\n",
              "\n",
              "    [theme=dark] .colab-df-convert:hover {\n",
              "      background-color: #434B5C;\n",
              "      box-shadow: 0px 1px 3px 1px rgba(0, 0, 0, 0.15);\n",
              "      filter: drop-shadow(0px 1px 2px rgba(0, 0, 0, 0.3));\n",
              "      fill: #FFFFFF;\n",
              "    }\n",
              "  </style>\n",
              "\n",
              "      <script>\n",
              "        const buttonEl =\n",
              "          document.querySelector('#df-7d296aa0-7aad-468b-9827-d25e6edb3e98 button.colab-df-convert');\n",
              "        buttonEl.style.display =\n",
              "          google.colab.kernel.accessAllowed ? 'block' : 'none';\n",
              "\n",
              "        async function convertToInteractive(key) {\n",
              "          const element = document.querySelector('#df-7d296aa0-7aad-468b-9827-d25e6edb3e98');\n",
              "          const dataTable =\n",
              "            await google.colab.kernel.invokeFunction('convertToInteractive',\n",
              "                                                     [key], {});\n",
              "          if (!dataTable) return;\n",
              "\n",
              "          const docLinkHtml = 'Like what you see? Visit the ' +\n",
              "            '<a target=\"_blank\" href=https://colab.research.google.com/notebooks/data_table.ipynb>data table notebook</a>'\n",
              "            + ' to learn more about interactive tables.';\n",
              "          element.innerHTML = '';\n",
              "          dataTable['output_type'] = 'display_data';\n",
              "          await google.colab.output.renderOutput(dataTable, element);\n",
              "          const docLink = document.createElement('div');\n",
              "          docLink.innerHTML = docLinkHtml;\n",
              "          element.appendChild(docLink);\n",
              "        }\n",
              "      </script>\n",
              "    </div>\n",
              "  </div>\n",
              "  "
            ]
          },
          "metadata": {},
          "execution_count": 45
        }
      ]
    },
    {
      "cell_type": "code",
      "source": [
        "data.shape"
      ],
      "metadata": {
        "colab": {
          "base_uri": "https://localhost:8080/"
        },
        "id": "pfJW_szOvmtJ",
        "outputId": "9ffdd711-9ba1-4184-e8f2-62d1dd7c72ef"
      },
      "execution_count": null,
      "outputs": [
        {
          "output_type": "execute_result",
          "data": {
            "text/plain": [
              "(20000, 15)"
            ]
          },
          "metadata": {},
          "execution_count": 46
        }
      ]
    },
    {
      "cell_type": "code",
      "source": [
        "data.info()"
      ],
      "metadata": {
        "colab": {
          "base_uri": "https://localhost:8080/"
        },
        "id": "A_Q7ndRFvojh",
        "outputId": "4faf0b34-8623-49d6-d5cc-40c49572a9f9"
      },
      "execution_count": null,
      "outputs": [
        {
          "output_type": "stream",
          "name": "stdout",
          "text": [
            "<class 'pandas.core.frame.DataFrame'>\n",
            "RangeIndex: 20000 entries, 0 to 19999\n",
            "Data columns (total 15 columns):\n",
            " #   Column                   Non-Null Count  Dtype  \n",
            "---  ------                   --------------  -----  \n",
            " 0   uniq_id                  20000 non-null  object \n",
            " 1   crawl_timestamp          20000 non-null  object \n",
            " 2   product_url              20000 non-null  object \n",
            " 3   product_name             20000 non-null  object \n",
            " 4   product_category_tree    20000 non-null  object \n",
            " 5   pid                      20000 non-null  object \n",
            " 6   retail_price             19922 non-null  float64\n",
            " 7   discounted_price         19922 non-null  float64\n",
            " 8   image                    19997 non-null  object \n",
            " 9   is_FK_Advantage_product  20000 non-null  bool   \n",
            " 10  description              19998 non-null  object \n",
            " 11  product_rating           20000 non-null  object \n",
            " 12  overall_rating           20000 non-null  object \n",
            " 13  brand                    14136 non-null  object \n",
            " 14  product_specifications   19986 non-null  object \n",
            "dtypes: bool(1), float64(2), object(12)\n",
            "memory usage: 2.2+ MB\n"
          ]
        }
      ]
    },
    {
      "cell_type": "markdown",
      "source": [
        "Adding a new length column to give the total length of the 'description' input variable"
      ],
      "metadata": {
        "id": "t_vPTMziwjlg"
      }
    },
    {
      "cell_type": "code",
      "source": [
        "data['length'] = data['description'].str.len()"
      ],
      "metadata": {
        "id": "fRyaENpnvqUJ"
      },
      "execution_count": null,
      "outputs": []
    },
    {
      "cell_type": "markdown",
      "source": [
        "Adding a new column for the number of words in the descriptio before text preprocessing"
      ],
      "metadata": {
        "id": "Kw8NZuIhwtwx"
      }
    },
    {
      "cell_type": "code",
      "source": [
        "data['description'] = data['description'].fillna(\"\")\n",
        "data['no_of_words'] = data.description.apply(lambda x : len(x.split()))"
      ],
      "metadata": {
        "id": "cCMJuEy-wS56"
      },
      "execution_count": null,
      "outputs": []
    },
    {
      "cell_type": "markdown",
      "source": [
        "###Word count distribution for 'description'"
      ],
      "metadata": {
        "id": "G6TcYJtrw28R"
      }
    },
    {
      "cell_type": "code",
      "source": [
        "bins=[0,50,75,np.inf]\n",
        "data['bins']=pd.cut(data.no_of_words, bins=[0,100,300,500,800, np.inf], labels=['0-100','100-200','200-500','500-800','>800'])\n",
        "words_distribution = data.groupby('bins').size().reset_index().rename(columns={0:'word_counts'})\n",
        "sns.barplot(x='bins',y='word_counts',data=words_distribution).set_title(\"Words Distribution per bin\")"
      ],
      "metadata": {
        "colab": {
          "base_uri": "https://localhost:8080/",
          "height": 312
        },
        "id": "kKc81XEkxEad",
        "outputId": "c6adbb86-91ef-4865-9378-bcac61d89df2"
      },
      "execution_count": null,
      "outputs": [
        {
          "output_type": "execute_result",
          "data": {
            "text/plain": [
              "Text(0.5, 1.0, 'Words Distribution per bin')"
            ]
          },
          "metadata": {},
          "execution_count": 51
        },
        {
          "output_type": "display_data",
          "data": {
            "text/plain": [
              "<Figure size 432x288 with 1 Axes>"
            ],
            "image/png": "[encoded data removed]"
          },
          "metadata": {
            "needs_background": "light"
          }
        }
      ]
    },
    {
      "cell_type": "markdown",
      "source": [
        "Hence. most descriptions have less than 100 words and approx 20% have 100 to 200 words"
      ],
      "metadata": {
        "id": "uqCtCfAF0UFd"
      }
    },
    {
      "cell_type": "markdown",
      "source": [
        "###Data Preprocessing"
      ],
      "metadata": {
        "id": "mHq4AMx40hQS"
      }
    },
    {
      "cell_type": "code",
      "source": [
        "# Number of missing values in each column\n",
        "missing = pd.DataFrame(data.isnull().sum()).rename(columns = {0: 'missing'})\n",
        "\n",
        "#Create a percentage of missing values\n",
        "missing['percent'] = missing['missing'] / len(data)\n",
        "\n",
        "#sorting the values in descending order to see highest count on the top\n",
        "missing.sort_values('percent',ascending = False)"
      ],
      "metadata": {
        "colab": {
          "base_uri": "https://localhost:8080/",
          "height": 614
        },
        "id": "2eKRg33eyJXv",
        "outputId": "32c2e2f7-8ae7-40b6-aca1-b3a12e5b8df9"
      },
      "execution_count": null,
      "outputs": [
        {
          "output_type": "execute_result",
          "data": {
            "text/plain": [
              "                         missing  percent\n",
              "brand                       5864  0.29320\n",
              "retail_price                  78  0.00390\n",
              "discounted_price              78  0.00390\n",
              "product_specifications        14  0.00070\n",
              "image                          3  0.00015\n",
              "bins                           2  0.00010\n",
              "length                         2  0.00010\n",
              "product_rating                 0  0.00000\n",
              "no_of_words                    0  0.00000\n",
              "overall_rating                 0  0.00000\n",
              "uniq_id                        0  0.00000\n",
              "description                    0  0.00000\n",
              "crawl_timestamp                0  0.00000\n",
              "pid                            0  0.00000\n",
              "product_category_tree          0  0.00000\n",
              "product_name                   0  0.00000\n",
              "product_url                    0  0.00000\n",
              "is_FK_Advantage_product        0  0.00000"
            ],
            "text/html": [
              "\n",
              "  <div id=\"df-f57a3f8c-7fa5-4cf8-9e1a-2808c8f00662\">\n",
              "    <div class=\"colab-df-container\">\n",
              "      <div>\n",
              "<style scoped>\n",
              "    .dataframe tbody tr th:only-of-type {\n",
              "        vertical-align: middle;\n",
              "    }\n",
              "\n",
              "    .dataframe tbody tr th {\n",
              "        vertical-align: top;\n",
              "    }\n",
              "\n",
              "    .dataframe thead th {\n",
              "        text-align: right;\n",
              "    }\n",
              "</style>\n",
              "<table border=\"1\" class=\"dataframe\">\n",
              "  <thead>\n",
              "    <tr style=\"text-align: right;\">\n",
              "      <th></th>\n",
              "      <th>missing</th>\n",
              "      <th>percent</th>\n",
              "    </tr>\n",
              "  </thead>\n",
              "  <tbody>\n",
              "    <tr>\n",
              "      <th>brand</th>\n",
              "      <td>5864</td>\n",
              "      <td>0.29320</td>\n",
              "    </tr>\n",
              "    <tr>\n",
              "      <th>retail_price</th>\n",
              "      <td>78</td>\n",
              "      <td>0.00390</td>\n",
              "    </tr>\n",
              "    <tr>\n",
              "      <th>discounted_price</th>\n",
              "      <td>78</td>\n",
              "      <td>0.00390</td>\n",
              "    </tr>\n",
              "    <tr>\n",
              "      <th>product_specifications</th>\n",
              "      <td>14</td>\n",
              "      <td>0.00070</td>\n",
              "    </tr>\n",
              "    <tr>\n",
              "      <th>image</th>\n",
              "      <td>3</td>\n",
              "      <td>0.00015</td>\n",
              "    </tr>\n",
              "    <tr>\n",
              "      <th>bins</th>\n",
              "      <td>2</td>\n",
              "      <td>0.00010</td>\n",
              "    </tr>\n",
              "    <tr>\n",
              "      <th>length</th>\n",
              "      <td>2</td>\n",
              "      <td>0.00010</td>\n",
              "    </tr>\n",
              "    <tr>\n",
              "      <th>product_rating</th>\n",
              "      <td>0</td>\n",
              "      <td>0.00000</td>\n",
              "    </tr>\n",
              "    <tr>\n",
              "      <th>no_of_words</th>\n",
              "      <td>0</td>\n",
              "      <td>0.00000</td>\n",
              "    </tr>\n",
              "    <tr>\n",
              "      <th>overall_rating</th>\n",
              "      <td>0</td>\n",
              "      <td>0.00000</td>\n",
              "    </tr>\n",
              "    <tr>\n",
              "      <th>uniq_id</th>\n",
              "      <td>0</td>\n",
              "      <td>0.00000</td>\n",
              "    </tr>\n",
              "    <tr>\n",
              "      <th>description</th>\n",
              "      <td>0</td>\n",
              "      <td>0.00000</td>\n",
              "    </tr>\n",
              "    <tr>\n",
              "      <th>crawl_timestamp</th>\n",
              "      <td>0</td>\n",
              "      <td>0.00000</td>\n",
              "    </tr>\n",
              "    <tr>\n",
              "      <th>pid</th>\n",
              "      <td>0</td>\n",
              "      <td>0.00000</td>\n",
              "    </tr>\n",
              "    <tr>\n",
              "      <th>product_category_tree</th>\n",
              "      <td>0</td>\n",
              "      <td>0.00000</td>\n",
              "    </tr>\n",
              "    <tr>\n",
              "      <th>product_name</th>\n",
              "      <td>0</td>\n",
              "      <td>0.00000</td>\n",
              "    </tr>\n",
              "    <tr>\n",
              "      <th>product_url</th>\n",
              "      <td>0</td>\n",
              "      <td>0.00000</td>\n",
              "    </tr>\n",
              "    <tr>\n",
              "      <th>is_FK_Advantage_product</th>\n",
              "      <td>0</td>\n",
              "      <td>0.00000</td>\n",
              "    </tr>\n",
              "  </tbody>\n",
              "</table>\n",
              "</div>\n",
              "      <button class=\"colab-df-convert\" onclick=\"convertToInteractive('df-f57a3f8c-7fa5-4cf8-9e1a-2808c8f00662')\"\n",
              "              title=\"Convert this dataframe to an interactive table.\"\n",
              "              style=\"display:none;\">\n",
              "        \n",
              "  <svg xmlns=\"http://www.w3.org/2000/svg\" height=\"24px\"viewBox=\"0 0 24 24\"\n",
              "       width=\"24px\">\n",
              "    <path d=\"M0 0h24v24H0V0z\" fill=\"none\"/>\n",
              "    <path d=\"M18.56 5.44l.94 2.06.94-2.06 2.06-.94-2.06-.94-.94-2.06-.94 2.06-2.06.94zm-11 1L8.5 8.5l.94-2.06 2.06-.94-2.06-.94L8.5 2.5l-.94 2.06-2.06.94zm10 10l.94 2.06.94-2.06 2.06-.94-2.06-.94-.94-2.06-.94 2.06-2.06.94z\"/><path d=\"M17.41 7.96l-1.37-1.37c-.4-.4-.92-.59-1.43-.59-.52 0-1.04.2-1.43.59L10.3 9.45l-7.72 7.72c-.78.78-.78 2.05 0 2.83L4 21.41c.39.39.9.59 1.41.59.51 0 1.02-.2 1.41-.59l7.78-7.78 2.81-2.81c.8-.78.8-2.07 0-2.86zM5.41 20L4 18.59l7.72-7.72 1.47 1.35L5.41 20z\"/>\n",
              "  </svg>\n",
              "      </button>\n",
              "      \n",
              "  <style>\n",
              "    .colab-df-container {\n",
              "      display:flex;\n",
              "      flex-wrap:wrap;\n",
              "      gap: 12px;\n",
              "    }\n",
              "\n",
              "    .colab-df-convert {\n",
              "      background-color: #E8F0FE;\n",
              "      border: none;\n",
              "      border-radius: 50%;\n",
              "      cursor: pointer;\n",
              "      display: none;\n",
              "      fill: #1967D2;\n",
              "      height: 32px;\n",
              "      padding: 0 0 0 0;\n",
              "      width: 32px;\n",
              "    }\n",
              "\n",
              "    .colab-df-convert:hover {\n",
              "      background-color: #E2EBFA;\n",
              "      box-shadow: 0px 1px 2px rgba(60, 64, 67, 0.3), 0px 1px 3px 1px rgba(60, 64, 67, 0.15);\n",
              "      fill: #174EA6;\n",
              "    }\n",
              "\n",
              "    [theme=dark] .colab-df-convert {\n",
              "      background-color: #3B4455;\n",
              "      fill: #D2E3FC;\n",
              "    }\n",
              "\n",
              "    [theme=dark] .colab-df-convert:hover {\n",
              "      background-color: #434B5C;\n",
              "      box-shadow: 0px 1px 3px 1px rgba(0, 0, 0, 0.15);\n",
              "      filter: drop-shadow(0px 1px 2px rgba(0, 0, 0, 0.3));\n",
              "      fill: #FFFFFF;\n",
              "    }\n",
              "  </style>\n",
              "\n",
              "      <script>\n",
              "        const buttonEl =\n",
              "          document.querySelector('#df-f57a3f8c-7fa5-4cf8-9e1a-2808c8f00662 button.colab-df-convert');\n",
              "        buttonEl.style.display =\n",
              "          google.colab.kernel.accessAllowed ? 'block' : 'none';\n",
              "\n",
              "        async function convertToInteractive(key) {\n",
              "          const element = document.querySelector('#df-f57a3f8c-7fa5-4cf8-9e1a-2808c8f00662');\n",
              "          const dataTable =\n",
              "            await google.colab.kernel.invokeFunction('convertToInteractive',\n",
              "                                                     [key], {});\n",
              "          if (!dataTable) return;\n",
              "\n",
              "          const docLinkHtml = 'Like what you see? Visit the ' +\n",
              "            '<a target=\"_blank\" href=https://colab.research.google.com/notebooks/data_table.ipynb>data table notebook</a>'\n",
              "            + ' to learn more about interactive tables.';\n",
              "          element.innerHTML = '';\n",
              "          dataTable['output_type'] = 'display_data';\n",
              "          await google.colab.output.renderOutput(dataTable, element);\n",
              "          const docLink = document.createElement('div');\n",
              "          docLink.innerHTML = docLinkHtml;\n",
              "          element.appendChild(docLink);\n",
              "        }\n",
              "      </script>\n",
              "    </div>\n",
              "  </div>\n",
              "  "
            ]
          },
          "metadata": {},
          "execution_count": 52
        }
      ]
    },
    {
      "cell_type": "markdown",
      "source": [
        "### Text Preprocessing\n",
        "Text preprocessing tasks include\n",
        "\n",
        "• Converting the text data to lowercase\n",
        "\n",
        "• Removing/replacing the punctuations\n",
        "\n",
        "• Removing/replacing the numbers\n",
        "\n",
        "• Removing extra whitespaces\n",
        "\n",
        "• Removing stop words\n",
        "\n",
        "• Stemming and lemmatization"
      ],
      "metadata": {
        "id": "Zye1DbDm4FaB"
      }
    },
    {
      "cell_type": "code",
      "source": [
        "#Remove punctuation\n",
        "data['description'] = data['description'].str.replace(r'[^\\w\\d\\s]',' ')\n",
        "\n",
        "#Replace whitespace between terms with a single space\n",
        "data['description'] = data['description'].str.replace(r'\\s+',' ')\n",
        "\n",
        "#Remove leading and trailing whitespace\n",
        "data['description'] = data['description'].str.replace(r'^\\s+|\\s+?$', '')\n",
        "\n",
        "# converting to lower case\n",
        "data['description'] = data['description'].str.lower()\n",
        "\n",
        "data['description'].head()"
      ],
      "metadata": {
        "colab": {
          "base_uri": "https://localhost:8080/"
        },
        "id": "qBTErxoN1aLP",
        "outputId": "61a41eb5-ed49-4164-df91-b0c3ea262bf9"
      },
      "execution_count": null,
      "outputs": [
        {
          "output_type": "execute_result",
          "data": {
            "text/plain": [
              "0    key features of alisha solid women s cycling s...\n",
              "1    fabhomedecor fabric double sofa bed finish col...\n",
              "2    key features of aw bellies sandals wedges heel...\n",
              "3    key features of alisha solid women s cycling s...\n",
              "4    specifications of sicons all purpose arnica do...\n",
              "Name: description, dtype: object"
            ]
          },
          "metadata": {},
          "execution_count": 53
        }
      ]
    },
    {
      "cell_type": "code",
      "source": [
        "# Removing stop words\n",
        "nltk.download('stopwords')\n",
        "stop = stopwords.words('english')\n",
        "pattern = r'\\b(/:{})\\b'.format('|'.join(stop))\n",
        "data['description'] = data['description'].str.replace(pattern, '')"
      ],
      "metadata": {
        "colab": {
          "base_uri": "https://localhost:8080/"
        },
        "id": "ThPY3NSR5_rM",
        "outputId": "c9917294-d1aa-4984-9ce5-3464312dd499"
      },
      "execution_count": null,
      "outputs": [
        {
          "output_type": "stream",
          "name": "stderr",
          "text": [
            "[nltk_data] Downloading package stopwords to /root/nltk_data...\n",
            "[nltk_data]   Package stopwords is already up-to-date!\n"
          ]
        }
      ]
    },
    {
      "cell_type": "code",
      "source": [
        "#Removing single characters\n",
        "data['description'] = data['description'].str.replace(r'\\s+',' ')\n",
        "data['description'] = data['description'].apply(lambda x: \" \".join(x for x in x.split() if len(x)>1))"
      ],
      "metadata": {
        "id": "qGtb5mvV7-MZ"
      },
      "execution_count": null,
      "outputs": []
    },
    {
      "cell_type": "code",
      "source": [
        "data['description'].head()"
      ],
      "metadata": {
        "colab": {
          "base_uri": "https://localhost:8080/"
        },
        "id": "6PulCSn28YJm",
        "outputId": "0dc7042e-502e-4134-e5a9-396ffdd620cf"
      },
      "execution_count": null,
      "outputs": [
        {
          "output_type": "execute_result",
          "data": {
            "text/plain": [
              "0    key features alisha solid women cycling shorts...\n",
              "1    fabhomedecor fabric double sofa bed finish col...\n",
              "2    key features aw bellies sandals wedges heel ca...\n",
              "3    key features alisha solid women cycling shorts...\n",
              "4    specifications sicons purpose arnica dog shamp...\n",
              "Name: description, dtype: object"
            ]
          },
          "metadata": {},
          "execution_count": 56
        }
      ]
    },
    {
      "cell_type": "code",
      "source": [
        "# Removing domain related stop words from description\n",
        "specific_stop_words = [\"rs\",\"flipkart\",\"buy\",\"com\",\"free\",\"day\",\"cash\",\"replacement\",\"guarantee\",\"genuine\",\"key\",\"feature\",\"delivery\",\"products\",\"product\",\"shipping\", \"online\",\"india\",\"shop\"]\n",
        "data['description'] = data['description'].apply(lambda x: \" \".join(x for x in x.split() if x not in specific_stop_words))\n",
        "data['description'].head()"
      ],
      "metadata": {
        "colab": {
          "base_uri": "https://localhost:8080/"
        },
        "id": "2bh4d-qT8h7h",
        "outputId": "0c895513-4fb5-468d-980d-9231faae1c64"
      },
      "execution_count": null,
      "outputs": [
        {
          "output_type": "execute_result",
          "data": {
            "text/plain": [
              "0    features alisha solid women cycling shorts cot...\n",
              "1    fabhomedecor fabric double sofa bed finish col...\n",
              "2    features aw bellies sandals wedges heel casual...\n",
              "3    features alisha solid women cycling shorts cot...\n",
              "4    specifications sicons purpose arnica dog shamp...\n",
              "Name: description, dtype: object"
            ]
          },
          "metadata": {},
          "execution_count": 57
        }
      ]
    },
    {
      "cell_type": "markdown",
      "source": [
        "Let's see what are the most occured words in the corpus and understand the data better"
      ],
      "metadata": {
        "id": "FyWASFsj9wRj"
      }
    },
    {
      "cell_type": "code",
      "source": [
        "#Most frequent words after removing domain related stop words\n",
        "nltk.download('punkt')\n",
        "a = data['description'].str.cat(sep=\" \")\n",
        "words = nltk.tokenize.word_tokenize(a)\n",
        "word_dist = nltk.FreqDist(words)\n",
        "word_dist.plot(12,cumulative=False)\n",
        "print(word_dist.most_common(12))"
      ],
      "metadata": {
        "colab": {
          "base_uri": "https://localhost:8080/",
          "height": 410
        },
        "id": "8mcokKiG9fSx",
        "outputId": "aeb3fef6-5e76-4625-cd21-11516189dae8"
      },
      "execution_count": null,
      "outputs": [
        {
          "output_type": "stream",
          "name": "stderr",
          "text": [
            "[nltk_data] Downloading package punkt to /root/nltk_data...\n",
            "[nltk_data]   Package punkt is already up-to-date!\n"
          ]
        },
        {
          "output_type": "display_data",
          "data": {
            "text/plain": [
              "<Figure size 432x288 with 1 Axes>"
            ],
            "image/png": "[encoded data removed]"
          },
          "metadata": {
            "needs_background": "light"
          }
        },
        {
          "output_type": "stream",
          "name": "stdout",
          "text": [
            "[('women', 10574), ('30', 7826), ('features', 7199), ('price', 6705), ('shirt', 5794), ('color', 5743), ('type', 5377), ('details', 5300), ('specifications', 5155), ('men', 5032), ('material', 4974), ('casual', 4972)]\n"
          ]
        }
      ]
    },
    {
      "cell_type": "markdown",
      "source": [
        "Hence the graph reveals that words like *women*, *price*, *shirt* etc appeared more commonly in the data."
      ],
      "metadata": {
        "id": "bxEONlHW_eVG"
      }
    },
    {
      "cell_type": "markdown",
      "source": [
        "###Model Building \n",
        "We want to build two models :\n",
        "1. A content-based recommendation system\n",
        "2. A product search engine\n",
        "\n",
        "From implementation point of view, both the models are same. But the problem each solves is different."
      ],
      "metadata": {
        "id": "N6Hce2pEANkx"
      }
    },
    {
      "cell_type": "markdown",
      "source": [
        "###Content-based Recommendation System\n",
        "for content based systems, let's use the TF-IDF approach"
      ],
      "metadata": {
        "id": "BxCrkztGd4n_"
      }
    },
    {
      "cell_type": "code",
      "source": [
        "# text cleaning\n",
        "data['description'] = data['description'].fillna('')\n",
        "\n",
        "#define the vectorizer\n",
        "T_vec = TfidfVectorizer(stop_words='english')\n",
        "\n",
        "# getthe vectors\n",
        "T_vec_matrix = T_vec.fit_transform(data['description'])\n",
        "\n",
        "#shape\n",
        "T_vec_matrix.shape"
      ],
      "metadata": {
        "id": "V7Ry3xX__b2f",
        "colab": {
          "base_uri": "https://localhost:8080/"
        },
        "outputId": "81349ff5-3b80-43ba-9db4-57de25abdc66"
      },
      "execution_count": null,
      "outputs": [
        {
          "output_type": "execute_result",
          "data": {
            "text/plain": [
              "(20000, 26162)"
            ]
          },
          "metadata": {},
          "execution_count": 59
        }
      ]
    },
    {
      "cell_type": "markdown",
      "source": [
        "A cosine similarity is used in this project. We need to write a function that takes\n",
        "product descriptions as input and lists N most similar items/products.\n",
        "We also need to do reverse mapping of product names to their indices."
      ],
      "metadata": {
        "id": "Uy8CPqVTes3i"
      }
    },
    {
      "cell_type": "code",
      "source": [
        "# Reversing the map of indices and product\n",
        "product_index = pd.Series(data.index, index=data['product_name']).drop_duplicates()\n",
        "product_index"
      ],
      "metadata": {
        "colab": {
          "base_uri": "https://localhost:8080/"
        },
        "id": "Lbkbkl3xejDT",
        "outputId": "0549b8dd-62fd-4251-ea03-ad44669a47a8"
      },
      "execution_count": null,
      "outputs": [
        {
          "output_type": "execute_result",
          "data": {
            "text/plain": [
              "product_name\n",
              "Alisha Solid Women's Cycling Shorts            0\n",
              "FabHomeDecor Fabric Double Sofa Bed            1\n",
              "AW Bellies                                     2\n",
              "Alisha Solid Women's Cycling Shorts            3\n",
              "Sicons All Purpose Arnica Dog Shampoo          4\n",
              "                                           ...  \n",
              "WallDesign Small Vinyl Sticker             19995\n",
              "Wallmantra Large Vinyl Stickers Sticker    19996\n",
              "Elite Collection Medium Acrylic Sticker    19997\n",
              "Elite Collection Medium Acrylic Sticker    19998\n",
              "Elite Collection Medium Acrylic Sticker    19999\n",
              "Length: 20000, dtype: int64"
            ]
          },
          "metadata": {},
          "execution_count": 60
        }
      ]
    },
    {
      "cell_type": "markdown",
      "source": [
        "In the following steps, everything is wrapped under a single function to make testing\n",
        "easier.\n",
        "1. Obtain the index given the product.\n",
        "2. Obtain cosine similarity scores.\n",
        "3. Sort the scores.\n",
        "4. Get the top N results from the list.\n",
        "5. Output the product names."
      ],
      "metadata": {
        "id": "gRGCRK8rfTeR"
      }
    },
    {
      "cell_type": "code",
      "source": [
        "#Function that talkes in product title as input and outputs the most similar product\n",
        "\n",
        "def predict_products(text):\n",
        "\n",
        "  #getting index\n",
        "  index  = product_index[text]\n",
        "\n",
        "  #Obtaining the pairwise similarity scores\n",
        "  score_matrix = linear_kernel(T_vec_matrix[index], T_vec_matrix)\n",
        "  matching_sc = list(enumerate(score_matrix[0]))\n",
        "\n",
        "  #Sort the product based on the similarity scores\n",
        "  matching_sc = sorted(matching_sc, key=lambda x: x[1], reverse=True)\n",
        "\n",
        "  #Getting the scores of the 10 most similar product\n",
        "  matching_sc = matching_sc[1:10]\n",
        "\n",
        "  #Getting the product indices\n",
        "  product_indices = [i[0] for i in matching_sc]\n",
        "\n",
        "  #Show the similar products\n",
        "  return data['product_name'].iloc[product_indices]\n",
        "\n",
        "recommended_product = predict_products(input(\"Enter a product name : \"))\n",
        "if recommended_product is not None:\n",
        "  print(\"\\nSimilar products\")\n",
        "  print(\"\\n\")\n",
        "  for product_name in recommended_product:\n",
        "    print(product_name)"
      ],
      "metadata": {
        "colab": {
          "base_uri": "https://localhost:8080/"
        },
        "id": "qMmDJgBKfJhB",
        "outputId": "c54f6515-09d5-4e18-e128-b61faa49ec49"
      },
      "execution_count": null,
      "outputs": [
        {
          "output_type": "stream",
          "name": "stdout",
          "text": [
            "Enter a product name : Chazer Running Shoes\n",
            "\n",
            "Similar products\n",
            "\n",
            "\n",
            "Chazer\n",
            "Nike 684658-003 Training & Gym Shoes, Running Shoes\n",
            "Nivia School Lace Up Shoes\n",
            "Glacier Running Shoes\n",
            "Knight Ace Kraasa Sports Running Shoes, Cycling Shoes, Walking Shoes\n",
            "TOUCHWOOD Noble Light Black Sports Running Shoes\n",
            "BAAJ Running Shoes\n",
            "Apoxy APX-RUNNER-2-KIDS-BLUE-ORANGE Running Shoes\n",
            "Skovin Boy School Shoes Lace Up\n"
          ]
        }
      ]
    },
    {
      "cell_type": "markdown",
      "source": [
        "If a customer clicks Chazer Running Shoes, they get\n",
        "recommendations based on any other brand running shoes or Chazer’s any other\n",
        "products.\n",
        "\n",
        "• Chazer Shoes is there because of the Chazer brand.\n",
        "\n",
        "• The rest of the recommendations are running shoes by a different brand."
      ],
      "metadata": {
        "id": "op5pbDUaiN34"
      }
    },
    {
      "cell_type": "markdown",
      "source": [
        "**This is one version of the recommendation system using NLP.** \n",
        "\n",
        "To get better results,\n",
        "we can do the following things.\n",
        "\n",
        "• A better approach to the content-based recommender system can be applied by creating the user profile (currently not in the scope of the\n",
        "data set).\n",
        "\n",
        "• Use word embeddings as features.\n",
        "\n",
        "• Try different distance measures."
      ],
      "metadata": {
        "id": "u61WhCdoijzZ"
      }
    },
    {
      "cell_type": "markdown",
      "source": [
        "### Product Search Engine :  \n",
        "The next problem statement **is optimizing the search engine to get better search results**.\n",
        "\n",
        "> The best way to solve the problems with string matching is *word embeddings*.\n",
        "\n",
        "Word Embeddings are N-dimensional vectors for each word that captures the meaning of the word along with context.\n",
        "\n",
        "**word2vec** is one of the methods to construct such an embedding. It uses a **shallow\n",
        "neural network** to build the embeddings. There are two ways the embeddings can be\n",
        "built: \n",
        "\n",
        "\n",
        ">**CBOW (common bag-of-words)** :  The CBOW method takes each word’s context as the input and predicts the word\n",
        "corresponding to the context. The input to the network context and passed to the hidden\n",
        "layer with N neurons. Then at the end, the output layer predicts the word using the\n",
        "softmax layer. The hidden layer neuron’s weight is considered the vector that captured\n",
        "the meaning and context.\n",
        "\n",
        "\n",
        ">**skip-gram:   Reverse of CBOW  :** The word is the input, and the network\n",
        "predicts context."
      ],
      "metadata": {
        "id": "M7dNDce3iwm6"
      }
    },
    {
      "cell_type": "markdown",
      "source": [
        "###Implementation of Search Engine"
      ],
      "metadata": {
        "id": "xlMxIkj2lSxT"
      }
    },
    {
      "cell_type": "code",
      "source": [
        "#Creating list containing description of each product as sublist\n",
        "\n",
        "fin =[]\n",
        "for i in range(len(data['description'])):\n",
        "  temp = []\n",
        "  temp.append(data['description'][i])\n",
        "  fin = fin + temp\n",
        "\n",
        "data1 = data[['product_name','description']]"
      ],
      "metadata": {
        "id": "2RiOctuvlFsZ"
      },
      "execution_count": null,
      "outputs": []
    },
    {
      "cell_type": "code",
      "source": [
        "#import the word2vec\n",
        "\n",
        "from gensim.models import KeyedVectors\n",
        "filename = '/content/drive/MyDrive/Recommender_system/GoogleNews-vectors-negative300.bin'\n",
        "model = KeyedVectors.load_word2vec_format(filename, binary=True, limit=5000000)"
      ],
      "metadata": {
        "id": "c2e3JU1Ql18C"
      },
      "execution_count": null,
      "outputs": []
    },
    {
      "cell_type": "code",
      "source": [
        "#Preprocessing\n",
        "\n",
        "def remove_stopwords(text, is_lower_case = False):\n",
        "  pattern = r'[^a-zA-Z0-9\\s]'\n",
        "  if text is not '':\n",
        "    text = re.sub(pattern, '', text[0])\n",
        "    tokens = nltk.word_tokenize(text)\n",
        "    tokens = [token.strip() for token in tokens]\n",
        "    if is_lower_case:\n",
        "      filtered_tokens = [token for token in tokens if token not in stop]\n",
        "    else:\n",
        "      filtered_tokens = [token for token in tokens if token.lower() not in stop]\n",
        "    filtered_text = ''.join(filtered_tokens)\n",
        "    return filtered_text\n",
        "  else:\n",
        "    return None"
      ],
      "metadata": {
        "id": "ieYy7i16mjoF"
      },
      "execution_count": null,
      "outputs": []
    },
    {
      "cell_type": "code",
      "source": [
        "# Obtain the embeddings, lets use \"300\"\n",
        "\n",
        "def get_embedding(word):\n",
        "  if word in model.wv.vocab:\n",
        "    return model[word]\n",
        "  else:\n",
        "    return np.zeros(300)   "
      ],
      "metadata": {
        "id": "bwOaoG9rqdip"
      },
      "execution_count": null,
      "outputs": []
    },
    {
      "cell_type": "markdown",
      "source": [
        "For every document, let’s take the mean of all the words present in the document."
      ],
      "metadata": {
        "id": "uZeGxoajq-EH"
      }
    },
    {
      "cell_type": "code",
      "source": [
        "#Obtaining the average vector of all the document\n",
        "\n",
        "out_dict={}\n",
        "for sen in fin:\n",
        "  d1 = remove_stopwords(sen)\n",
        "  if(d1 is not None):\n",
        "    average_vector = (np.mean(np.array([get_embedding(x) for x in nltk.word_tokenize(d1)]), axis=0))\n",
        "    dict = { sen : (average_vector)}\n",
        "    out_dict.update(dict)\n",
        "\n",
        "# Get the similarity between the query and documents\n",
        "\n",
        "def get_sim(query_embedding, average_vector_doc):\n",
        "  sim = [(1 - scipy.spatial.distance.cosine(query_embedding, average_vector_doc))]\n",
        "  return sim"
      ],
      "metadata": {
        "id": "EbG3X6L3rAG5"
      },
      "execution_count": null,
      "outputs": []
    },
    {
      "cell_type": "code",
      "source": [
        "# Rank all the documents based on the similarity\n",
        "def Ranked_documents(query):\n",
        "  global rank\n",
        "  query_words = (np.mean(np.array([get_embedding(x) for x in nltk.word_tokenize(query.lower())],dtype=float),axis=0))\n",
        "  rank = []\n",
        "  for k,v in out_dict.items():\n",
        "    rank.append((k, get_sim(query_words, v)))\n",
        "  rank = sorted(rank, key=lambda t: t[1], reverse=True)\n",
        "  dd = pd.DataFrame(rank,columns =['Desc', 'score'])\n",
        "  rankfin = pd.merge(data1,dd,left_on='description',right_on='Desc')\n",
        "  rankfin = rankfin[['product_name','description','score']]\n",
        "  print('Ranked Documents :')\n",
        "  return rankfin"
      ],
      "metadata": {
        "id": "JPVmmHqxzeK4"
      },
      "execution_count": null,
      "outputs": []
    },
    {
      "cell_type": "code",
      "source": [
        "#Call the IR function witha query\n",
        "query = input(\"What would you like to search ? \")\n",
        "res = Ranked_documents(query)\n",
        "res.sort_values('score',ascending=False).head(15)"
      ],
      "metadata": {
        "colab": {
          "base_uri": "https://localhost:8080/",
          "height": 554
        },
        "id": "A8j2tDzq02QY",
        "outputId": "e2938f3f-589a-4641-e39e-5b5cb4fc6707"
      },
      "execution_count": null,
      "outputs": [
        {
          "output_type": "stream",
          "name": "stdout",
          "text": [
            "What would you like to search ? women car mat \n",
            "Ranked Documents :\n"
          ]
        },
        {
          "output_type": "execute_result",
          "data": {
            "text/plain": [
              "                                            product_name  \\\n",
              "9999                          Italian Comfit Women Heels   \n",
              "11759                             Alvaro Self Design Tie   \n",
              "4761        Indian House Georgette Solid Blouse Material   \n",
              "4760        Indian House Georgette Solid Blouse Material   \n",
              "11746  Aveeno Protect + Hydrate Broad Spectrum Spf 70...   \n",
              "11747               Anherb Sunscreen Lotion - SPF 20 PA+   \n",
              "4757                        Smart Power Car Mount Holder   \n",
              "11748                                 MH MDF Photo Frame   \n",
              "4755        Allure Auto CM 1655 Car Mat Mitsubishi Cielo   \n",
              "4754           Allure Auto CM 575 Car Mat Chevrolet Sail   \n",
              "11751                               Alvaro Checkered Tie   \n",
              "4752         Allure Auto CM 2045 Car Mat Mahindra Bolero   \n",
              "11757                Tao Communications Acrylic Painting   \n",
              "11760               Infiniti 9 W LED Warm White B22 Bulb   \n",
              "4763             Amzer Handlebar Mount for iPhone 6 Plus   \n",
              "\n",
              "                                             description score  \n",
              "9999                   italian comfit women heels 799 30   [1]  \n",
              "11759  alvaro self design tie black alvaro self desig...   [1]  \n",
              "4761   indian house georgette solid blouse material 2...   [1]  \n",
              "4760   indian house georgette solid blouse material 2...   [1]  \n",
              "11746  aveeno protect hydrate broad spectrum spf 70 s...   [1]  \n",
              "11747  anherb sunscreen lotion spf 20 pa 145 lowest p...   [1]  \n",
              "4757   smart power car mount holder blue price 699 ca...   [1]  \n",
              "11748  mh mdf photo frame photo size 18x13 cm photos ...   [1]  \n",
              "4755   allure auto cm 1655 car mat mitsubishi cielo 1...   [1]  \n",
              "4754   allure auto cm 575 car mat chevrolet sail 920 ...   [1]  \n",
              "11751  alvaro checkered tie blue alvaro checkered tie...   [1]  \n",
              "4752   allure auto cm 2045 car mat mahindra bolero 15...   [1]  \n",
              "11757  tao communications acrylic painting 15 inch 12...   [1]  \n",
              "11760  infiniti led warm white b22 bulb white pack pr...   [1]  \n",
              "4763           amzer handlebar mount iphone plus 1799 30   [1]  "
            ],
            "text/html": [
              "\n",
              "  <div id=\"df-fe12d7ad-9f0b-4601-9415-c6ae9a78bc6b\">\n",
              "    <div class=\"colab-df-container\">\n",
              "      <div>\n",
              "<style scoped>\n",
              "    .dataframe tbody tr th:only-of-type {\n",
              "        vertical-align: middle;\n",
              "    }\n",
              "\n",
              "    .dataframe tbody tr th {\n",
              "        vertical-align: top;\n",
              "    }\n",
              "\n",
              "    .dataframe thead th {\n",
              "        text-align: right;\n",
              "    }\n",
              "</style>\n",
              "<table border=\"1\" class=\"dataframe\">\n",
              "  <thead>\n",
              "    <tr style=\"text-align: right;\">\n",
              "      <th></th>\n",
              "      <th>product_name</th>\n",
              "      <th>description</th>\n",
              "      <th>score</th>\n",
              "    </tr>\n",
              "  </thead>\n",
              "  <tbody>\n",
              "    <tr>\n",
              "      <th>9999</th>\n",
              "      <td>Italian Comfit Women Heels</td>\n",
              "      <td>italian comfit women heels 799 30</td>\n",
              "      <td>[1]</td>\n",
              "    </tr>\n",
              "    <tr>\n",
              "      <th>11759</th>\n",
              "      <td>Alvaro Self Design Tie</td>\n",
              "      <td>alvaro self design tie black alvaro self desig...</td>\n",
              "      <td>[1]</td>\n",
              "    </tr>\n",
              "    <tr>\n",
              "      <th>4761</th>\n",
              "      <td>Indian House Georgette Solid Blouse Material</td>\n",
              "      <td>indian house georgette solid blouse material 2...</td>\n",
              "      <td>[1]</td>\n",
              "    </tr>\n",
              "    <tr>\n",
              "      <th>4760</th>\n",
              "      <td>Indian House Georgette Solid Blouse Material</td>\n",
              "      <td>indian house georgette solid blouse material 2...</td>\n",
              "      <td>[1]</td>\n",
              "    </tr>\n",
              "    <tr>\n",
              "      <th>11746</th>\n",
              "      <td>Aveeno Protect + Hydrate Broad Spectrum Spf 70...</td>\n",
              "      <td>aveeno protect hydrate broad spectrum spf 70 s...</td>\n",
              "      <td>[1]</td>\n",
              "    </tr>\n",
              "    <tr>\n",
              "      <th>11747</th>\n",
              "      <td>Anherb Sunscreen Lotion - SPF 20 PA+</td>\n",
              "      <td>anherb sunscreen lotion spf 20 pa 145 lowest p...</td>\n",
              "      <td>[1]</td>\n",
              "    </tr>\n",
              "    <tr>\n",
              "      <th>4757</th>\n",
              "      <td>Smart Power Car Mount Holder</td>\n",
              "      <td>smart power car mount holder blue price 699 ca...</td>\n",
              "      <td>[1]</td>\n",
              "    </tr>\n",
              "    <tr>\n",
              "      <th>11748</th>\n",
              "      <td>MH MDF Photo Frame</td>\n",
              "      <td>mh mdf photo frame photo size 18x13 cm photos ...</td>\n",
              "      <td>[1]</td>\n",
              "    </tr>\n",
              "    <tr>\n",
              "      <th>4755</th>\n",
              "      <td>Allure Auto CM 1655 Car Mat Mitsubishi Cielo</td>\n",
              "      <td>allure auto cm 1655 car mat mitsubishi cielo 1...</td>\n",
              "      <td>[1]</td>\n",
              "    </tr>\n",
              "    <tr>\n",
              "      <th>4754</th>\n",
              "      <td>Allure Auto CM 575 Car Mat Chevrolet Sail</td>\n",
              "      <td>allure auto cm 575 car mat chevrolet sail 920 ...</td>\n",
              "      <td>[1]</td>\n",
              "    </tr>\n",
              "    <tr>\n",
              "      <th>11751</th>\n",
              "      <td>Alvaro Checkered Tie</td>\n",
              "      <td>alvaro checkered tie blue alvaro checkered tie...</td>\n",
              "      <td>[1]</td>\n",
              "    </tr>\n",
              "    <tr>\n",
              "      <th>4752</th>\n",
              "      <td>Allure Auto CM 2045 Car Mat Mahindra Bolero</td>\n",
              "      <td>allure auto cm 2045 car mat mahindra bolero 15...</td>\n",
              "      <td>[1]</td>\n",
              "    </tr>\n",
              "    <tr>\n",
              "      <th>11757</th>\n",
              "      <td>Tao Communications Acrylic Painting</td>\n",
              "      <td>tao communications acrylic painting 15 inch 12...</td>\n",
              "      <td>[1]</td>\n",
              "    </tr>\n",
              "    <tr>\n",
              "      <th>11760</th>\n",
              "      <td>Infiniti 9 W LED Warm White B22 Bulb</td>\n",
              "      <td>infiniti led warm white b22 bulb white pack pr...</td>\n",
              "      <td>[1]</td>\n",
              "    </tr>\n",
              "    <tr>\n",
              "      <th>4763</th>\n",
              "      <td>Amzer Handlebar Mount for iPhone 6 Plus</td>\n",
              "      <td>amzer handlebar mount iphone plus 1799 30</td>\n",
              "      <td>[1]</td>\n",
              "    </tr>\n",
              "  </tbody>\n",
              "</table>\n",
              "</div>\n",
              "      <button class=\"colab-df-convert\" onclick=\"convertToInteractive('df-fe12d7ad-9f0b-4601-9415-c6ae9a78bc6b')\"\n",
              "              title=\"Convert this dataframe to an interactive table.\"\n",
              "              style=\"display:none;\">\n",
              "        \n",
              "  <svg xmlns=\"http://www.w3.org/2000/svg\" height=\"24px\"viewBox=\"0 0 24 24\"\n",
              "       width=\"24px\">\n",
              "    <path d=\"M0 0h24v24H0V0z\" fill=\"none\"/>\n",
              "    <path d=\"M18.56 5.44l.94 2.06.94-2.06 2.06-.94-2.06-.94-.94-2.06-.94 2.06-2.06.94zm-11 1L8.5 8.5l.94-2.06 2.06-.94-2.06-.94L8.5 2.5l-.94 2.06-2.06.94zm10 10l.94 2.06.94-2.06 2.06-.94-2.06-.94-.94-2.06-.94 2.06-2.06.94z\"/><path d=\"M17.41 7.96l-1.37-1.37c-.4-.4-.92-.59-1.43-.59-.52 0-1.04.2-1.43.59L10.3 9.45l-7.72 7.72c-.78.78-.78 2.05 0 2.83L4 21.41c.39.39.9.59 1.41.59.51 0 1.02-.2 1.41-.59l7.78-7.78 2.81-2.81c.8-.78.8-2.07 0-2.86zM5.41 20L4 18.59l7.72-7.72 1.47 1.35L5.41 20z\"/>\n",
              "  </svg>\n",
              "      </button>\n",
              "      \n",
              "  <style>\n",
              "    .colab-df-container {\n",
              "      display:flex;\n",
              "      flex-wrap:wrap;\n",
              "      gap: 12px;\n",
              "    }\n",
              "\n",
              "    .colab-df-convert {\n",
              "      background-color: #E8F0FE;\n",
              "      border: none;\n",
              "      border-radius: 50%;\n",
              "      cursor: pointer;\n",
              "      display: none;\n",
              "      fill: #1967D2;\n",
              "      height: 32px;\n",
              "      padding: 0 0 0 0;\n",
              "      width: 32px;\n",
              "    }\n",
              "\n",
              "    .colab-df-convert:hover {\n",
              "      background-color: #E2EBFA;\n",
              "      box-shadow: 0px 1px 2px rgba(60, 64, 67, 0.3), 0px 1px 3px 1px rgba(60, 64, 67, 0.15);\n",
              "      fill: #174EA6;\n",
              "    }\n",
              "\n",
              "    [theme=dark] .colab-df-convert {\n",
              "      background-color: #3B4455;\n",
              "      fill: #D2E3FC;\n",
              "    }\n",
              "\n",
              "    [theme=dark] .colab-df-convert:hover {\n",
              "      background-color: #434B5C;\n",
              "      box-shadow: 0px 1px 3px 1px rgba(0, 0, 0, 0.15);\n",
              "      filter: drop-shadow(0px 1px 2px rgba(0, 0, 0, 0.3));\n",
              "      fill: #FFFFFF;\n",
              "    }\n",
              "  </style>\n",
              "\n",
              "      <script>\n",
              "        const buttonEl =\n",
              "          document.querySelector('#df-fe12d7ad-9f0b-4601-9415-c6ae9a78bc6b button.colab-df-convert');\n",
              "        buttonEl.style.display =\n",
              "          google.colab.kernel.accessAllowed ? 'block' : 'none';\n",
              "\n",
              "        async function convertToInteractive(key) {\n",
              "          const element = document.querySelector('#df-fe12d7ad-9f0b-4601-9415-c6ae9a78bc6b');\n",
              "          const dataTable =\n",
              "            await google.colab.kernel.invokeFunction('convertToInteractive',\n",
              "                                                     [key], {});\n",
              "          if (!dataTable) return;\n",
              "\n",
              "          const docLinkHtml = 'Like what you see? Visit the ' +\n",
              "            '<a target=\"_blank\" href=https://colab.research.google.com/notebooks/data_table.ipynb>data table notebook</a>'\n",
              "            + ' to learn more about interactive tables.';\n",
              "          element.innerHTML = '';\n",
              "          dataTable['output_type'] = 'display_data';\n",
              "          await google.colab.output.renderOutput(dataTable, element);\n",
              "          const docLink = document.createElement('div');\n",
              "          docLink.innerHTML = docLinkHtml;\n",
              "          element.appendChild(docLink);\n",
              "        }\n",
              "      </script>\n",
              "    </div>\n",
              "  </div>\n",
              "  "
            ]
          },
          "metadata": {},
          "execution_count": 123
        }
      ]
    }
  ]
}